{
 "cells": [
  {
   "cell_type": "markdown",
   "metadata": {},
   "source": [
    "# Project #1\n",
    "#### Team Members: Arturo White, Conor Martin , Dean Thoms, Jackie, Nate Smith\n",
    "* Hypothesis:\n",
    "    - Teams perform better after a bye week\n",
    "        ○ The offense scores more points after a bye week\n",
    "        ○ The defense allows fewer points after a bye week\n",
    "\n",
    "    - Null hypothesis:\n",
    "        ○ Bye weeks have no impact on a team's performance\n"
   ]
  },
  {
   "cell_type": "code",
   "execution_count": 4,
   "metadata": {},
   "outputs": [],
   "source": [
    "## Import all dependencies\n",
    "import pandas as pd\n",
    "import numpy as np\n",
    "import stat as st\n",
    "import matplotlib.pyplot as plt"
   ]
  },
  {
   "cell_type": "markdown",
   "metadata": {},
   "source": [
    "### Data Preparation:\n",
    "    1. Perform validations on each data source (i.e., Review team names to ensure consistency and review date format)\n",
    "        a. Kaggle (multiple)\n",
    "        b. CFB Stats (i.e., wins / losses / points)\n",
    "        c. Odd Shark (i.e., bye week data)\n",
    "    2. Join Kaggle tables together\n",
    "        a. Keys are going to verify per table\n",
    "        b. Refer to \"RELEASE.txt\" file for notes on columns\n",
    "            i. The \"Code\" columns allow you to tie the files together\n",
    "    3. Join Kaggle and CFB tables using a join key of:\n",
    "        a. Team Name\n",
    "        b. Date\n",
    "    4. Add Odd Shark data by joining on Date and Team Name; however, we want to populate a new column (i.e., \"Bye Week (Yes or No)\" in the data frame\n",
    "\n"
   ]
  },
  {
   "cell_type": "code",
   "execution_count": null,
   "metadata": {},
   "outputs": [],
   "source": []
  },
  {
   "cell_type": "markdown",
   "metadata": {},
   "source": [
    "### Data Munging:\n",
    "    1. Check for any NaN values or null records in critical fields\n",
    "    2. Remove any unnecessary teams from the data frame\n",
    "    3. Disaggregate data frame into two sub components\n",
    "        a. Create data frame that only contains the game information after bye week\n",
    "            i. EX: bye_week_df = df[df['Bye Week (Yes or No)'] == \"Yes\"]\u000b",
    "Create data frame that contains all but the games after bye week\n",
    "            ii. EX: bye_week_df = df[df['Bye Week (Yes or No)'] == \"No\"]\n",
    "    4. Separate dataframes by year (**Note this isn't 100% necessary as we could always group-by year and team name later, but I think separating the dataframes will make it easier on us)\n",
    "\n"
   ]
  },
  {
   "cell_type": "code",
   "execution_count": null,
   "metadata": {},
   "outputs": [],
   "source": []
  },
  {
   "cell_type": "markdown",
   "metadata": {},
   "source": [
    "### Analysis Prep:\n",
    "    1. Group each df by team name\n",
    "    2. Calculate the mean of each critical field for non-bye week dataframes (i.e., mean of total points, off. Points, etc.)\n",
    "        a. Note I will be referring to these data frames as \"Grouped by Team Non-Bye Week df\" for the remainder of this pseudocode\n",
    "    3. Join in the \"Bye Week Stats df\" (i.e., the bye week data frame grouped by team name) into the \"Grouped by Team Non-Bye Week df\"\n",
    "        a. Note that the \"Grouped by Team Non-Bye Week df\" should be the left portion of the join\n",
    "        b. Add prefix to all right side of join columns to easily distinguish that those are the by week stats\n",
    "    4. Remove unnecessary columns for ease of workability (i.e., create offense only df, defense only df, total points df, etc.)\n",
    "\n"
   ]
  },
  {
   "cell_type": "code",
   "execution_count": null,
   "metadata": {},
   "outputs": [],
   "source": []
  },
  {
   "cell_type": "markdown",
   "metadata": {},
   "source": [
    "### Analysis / Statistical Results:\n",
    "    1. Perform ANOVA analysis on respective fields from mean season vs. after bye week\n",
    "        a. Determine if there is significance between the data\n",
    "    2. T-test to see if there is statistical significance b/n post bye week performance compared to avg. performance\n",
    "    \n"
   ]
  },
  {
   "cell_type": "code",
   "execution_count": null,
   "metadata": {},
   "outputs": [],
   "source": []
  },
  {
   "cell_type": "markdown",
   "metadata": {},
   "source": [
    "### Visualization:\n",
    "    1. Box and Whisker plot of statistical results\n",
    "    2. Create clustered bar chart for each of the major comparisons:\n",
    "        a. Win % over the five years (each cluster of bars is a team)\n",
    "        b. Avg Off. Pts. Over the five years (each cluster of bars is a team)\n",
    "        c. Avg Def. Pts Allowed Over the five years (each cluster of bars is a team)"
   ]
  },
  {
   "cell_type": "code",
   "execution_count": null,
   "metadata": {},
   "outputs": [],
   "source": []
  }
 ],
 "metadata": {
  "kernelspec": {
   "display_name": "Python 36 (PythonData36)",
   "language": "python",
   "name": "pythondata36"
  },
  "language_info": {
   "codemirror_mode": {
    "name": "ipython",
    "version": 3
   },
   "file_extension": ".py",
   "mimetype": "text/x-python",
   "name": "python",
   "nbconvert_exporter": "python",
   "pygments_lexer": "ipython3",
   "version": "3.6.8"
  }
 },
 "nbformat": 4,
 "nbformat_minor": 2
}
